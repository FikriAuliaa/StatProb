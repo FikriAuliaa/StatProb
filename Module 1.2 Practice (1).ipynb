{
 "cells": [
  {
   "cell_type": "code",
   "execution_count": 1,
   "metadata": {},
   "outputs": [
    {
     "name": "stdout",
     "output_type": "stream",
     "text": [
      "Rata-rata (Manual): 13.2\n",
      "Ragam (Manual): 9.16\n",
      "Standar Deviasi (Manual): 3.026549190084311\n",
      "Kuartil 1 (Q1) (Manual): 10\n",
      "Median (Q2) (Manual): 13.0\n",
      "Kuartil 3 (Q3) (Manual): 15\n",
      "Jangkauan Interkuartil (IQR) (Manual): 5\n",
      "Ragam (Numpy): 9.16\n",
      "Standar Deviasi (Numpy): 3.026549190084311\n",
      "Kuartil 1 (Q1) (Numpy): 10.5\n",
      "Median (Q2) (Numpy): 13.0\n",
      "Kuartil 3 (Q3) (Numpy): 14.75\n",
      "Jangkauan Interkuartil (IQR) (Numpy): 4.25\n"
     ]
    }
   ],
   "source": [
    "\"\"\"\n",
    "FIKRI AULIA AS SA'ADI\n",
    "5027231026\n",
    "STATISTIKA DAN PROBABILITAS\n",
    "\"\"\"\n",
    "\n",
    "import numpy as np\n",
    "\n",
    "# DATA GOL TIAP PEMAIN\n",
    "data_gol = [19, 10, 10, 12, 13, 15, 14, 13, 9, 17]\n",
    "\n",
    "# FUNGSI UNTUK MENGHITUNG MEAN\n",
    "mean = sum(data_gol) / len(data_gol)\n",
    "print(\"Rata-rata (Manual):\", mean)\n",
    "\n",
    "# FUNGSI UNTUK MENGHITUNG RAGAM (variance) DAN STANDAR DEVIASI (standard deviation)\n",
    "squared_diff = [(x - mean) ** 2 for x in data_gol]\n",
    "variance = sum(squared_diff) / len(data_gol)\n",
    "std_dev = variance ** 0.5  # STANDAR DEVIASI ADALAH AKAR KUADRAT DARI RAGAM\n",
    "print(\"Ragam (Manual):\", variance)\n",
    "print(\"Standar Deviasi (Manual):\", std_dev)\n",
    "\n",
    "# URUTKAN DATA\n",
    "sorted_data = sorted(data_gol)\n",
    "\n",
    "# KUARTIL DAN JANGKAUAN INTERKUARTIL (Interquartile Range)\n",
    "def find_median(data):\n",
    "    n = len(data)\n",
    "    if n % 2 == 0:\n",
    "        return (data[n // 2 - 1] + data[n // 2]) / 2\n",
    "    return data[n // 2]\n",
    "\n",
    "median = find_median(sorted_data)\n",
    "q1 = find_median(sorted_data[:len(sorted_data) // 2])\n",
    "q3 = find_median(sorted_data[len(sorted_data) // 2:])\n",
    "iqr = q3 - q1\n",
    "print(\"Kuartil 1 (Q1) (Manual):\", q1)\n",
    "print(\"Median (Q2) (Manual):\", median)\n",
    "print(\"Kuartil 3 (Q3) (Manual):\", q3)\n",
    "print(\"Jangkauan Interkuartil (IQR) (Manual):\", iqr)\n",
    "\n",
    "# MENCARI RAGAM STANDAR DEVIASI, KUARTIL DAN JANGKAUAN INTERKUARTIL MENGGUNAKAN NUMPY\n",
    "data_gol = np.array([19, 10, 10, 12, 13, 15, 14, 13, 9, 17])\n",
    "\n",
    "# Ragam (variance) dan Standar Deviasi (standard deviation)\n",
    "variance = np.var(data_gol)\n",
    "std_dev = np.std(data_gol)\n",
    "print(\"Ragam (Numpy):\", variance)\n",
    "print(\"Standar Deviasi (Numpy):\", std_dev)\n",
    "\n",
    "# Kuartil dan Jangkauan Interkuartil (Interquartile Range)\n",
    "quartiles = np.percentile(data_gol, [25, 50, 75])\n",
    "q1, median, q3 = quartiles\n",
    "iqr = q3 - q1\n",
    "print(\"Kuartil 1 (Q1) (Numpy):\", q1)\n",
    "print(\"Median (Q2) (Numpy):\", median)\n",
    "print(\"Kuartil 3 (Q3) (Numpy):\", q3)\n",
    "print(\"Jangkauan Interkuartil (IQR) (Numpy):\", iqr)\n"
   ]
  }
 ],
 "metadata": {
  "kernelspec": {
   "display_name": "base",
   "language": "python",
   "name": "python3"
  },
  "language_info": {
   "codemirror_mode": {
    "name": "ipython",
    "version": 3
   },
   "file_extension": ".py",
   "mimetype": "text/x-python",
   "name": "python",
   "nbconvert_exporter": "python",
   "pygments_lexer": "ipython3",
   "version": "3.11.5"
  }
 },
 "nbformat": 4,
 "nbformat_minor": 2
}
