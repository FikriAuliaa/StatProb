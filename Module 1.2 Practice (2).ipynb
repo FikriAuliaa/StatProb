{
 "cells": [
  {
   "cell_type": "code",
   "execution_count": 1,
   "metadata": {},
   "outputs": [
    {
     "name": "stdout",
     "output_type": "stream",
     "text": [
      "Rentang (Manual): 30\n",
      "Rata-rata (Manual): 180.0\n",
      "Ragam (Manual): 100.0\n",
      "Standar Deviasi (Manual): 10.0\n",
      "Kuartil 1 (Q1) (Manual): 170\n",
      "Median (Q2) (Manual): 180\n",
      "Kuartil 3 (Q3) (Manual): 190\n",
      "Jangkauan Interkuartil (IQR) (Manual): 20\n",
      "Rentang (Numpy): 30\n",
      "Ragam (Numpy): 100.0\n",
      "Standar Deviasi (Numpy): 10.0\n",
      "Kuartil 1 (Q1) (Numpy): 172.5\n",
      "Median (Q2) (Numpy): 180.0\n",
      "Kuartil 3 (Q3) (Numpy): 187.5\n",
      "Jangkauan Interkuartil (IQR) (Numpy): 15.0\n"
     ]
    }
   ],
   "source": [
    "import numpy as np\n",
    "\n",
    "tinggi_pemain = [180, 185, 175, 190, 170, 195, 165]\n",
    "\n",
    "# FUNGSI UNTUK MENCARI RENTANG (Range)\n",
    "rentang = max(tinggi_pemain) - min(tinggi_pemain)\n",
    "print(\"Rentang (Manual):\", rentang)\n",
    "\n",
    "# FUNGSI UNTUK MENGHITUNG MEAN \n",
    "rerata = sum(tinggi_pemain) / len(tinggi_pemain)\n",
    "print(\"Rata-rata (Manual):\", rerata)\n",
    "\n",
    "# FUNGSI UNTUK MENGHITUNG RAGAM (variance) DAN STANDAR DEVIASI (standard deviation)\n",
    "ragam = sum((x - rerata) ** 2 for x in tinggi_pemain) / len(tinggi_pemain)\n",
    "standar_deviasi = ragam ** 0.5\n",
    "print(\"Ragam (Manual):\", ragam)\n",
    "print(\"Standar Deviasi (Manual):\", standar_deviasi)\n",
    "\n",
    "# KUARTIL DAN JANGKAUAN INTERKUARTIL (Interquartile Range)\n",
    "tinggi_pemain.sort()\n",
    "n = len(tinggi_pemain)\n",
    "Q1 = tinggi_pemain[n // 4]\n",
    "Q2 = tinggi_pemain[n // 2]\n",
    "Q3 = tinggi_pemain[n * 3 // 4]\n",
    "IQR = Q3 - Q1\n",
    "print(\"Kuartil 1 (Q1) (Manual):\", Q1)\n",
    "print(\"Median (Q2) (Manual):\", Q2)\n",
    "print(\"Kuartil 3 (Q3) (Manual):\", Q3)\n",
    "print(\"Jangkauan Interkuartil (IQR) (Manual):\", IQR)\n",
    "\n",
    "# MENCARI RAGAM STANDAR DEVIASI, KUARTIL DAN JANGKAUAN INTERKUARTIL MENGGUNAKAN NUMPY\n",
    "tinggi_pemain = np.array([180, 185, 175, 190, 170, 195, 165])\n",
    "\n",
    "# FUNGSI UNTUK MENCARI RENTANG (Range)\n",
    "rentang = np.ptp(tinggi_pemain)\n",
    "print(\"Rentang (Numpy):\", rentang)\n",
    "\n",
    "# Ragam (Variance) dan Standar Deviasi (Standard Deviation)\n",
    "ragam = np.var(tinggi_pemain)\n",
    "standar_deviasi = np.std(tinggi_pemain)\n",
    "print(\"Ragam (Numpy):\", ragam)\n",
    "print(\"Standar Deviasi (Numpy):\", standar_deviasi)\n",
    "\n",
    "# Kuartil dan Jangkauan Interkuartil (Interquartile Range)\n",
    "quartiles = np.percentile(tinggi_pemain, [25, 50, 75])\n",
    "Q1, median, Q3 = quartiles\n",
    "IQR = Q3 - Q1\n",
    "print(\"Kuartil 1 (Q1) (Numpy):\", Q1)\n",
    "print(\"Median (Q2) (Numpy):\", median)\n",
    "print(\"Kuartil 3 (Q3) (Numpy):\", Q3)\n",
    "print(\"Jangkauan Interkuartil (IQR) (Numpy):\", IQR)\n"
   ]
  }
 ],
 "metadata": {
  "kernelspec": {
   "display_name": "base",
   "language": "python",
   "name": "python3"
  },
  "language_info": {
   "codemirror_mode": {
    "name": "ipython",
    "version": 3
   },
   "file_extension": ".py",
   "mimetype": "text/x-python",
   "name": "python",
   "nbconvert_exporter": "python",
   "pygments_lexer": "ipython3",
   "version": "3.11.5"
  }
 },
 "nbformat": 4,
 "nbformat_minor": 2
}
